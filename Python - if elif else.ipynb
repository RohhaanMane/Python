{
 "cells": [
  {
   "cell_type": "code",
   "execution_count": 2,
   "metadata": {},
   "outputs": [
    {
     "name": "stdout",
     "output_type": "stream",
     "text": [
      "What is spped of the fan (1,2,3,4,5) : 5\n",
      "Extremely Fast : 250 rpm\n"
     ]
    }
   ],
   "source": [
    "speed = int(input('What is spped of the fan (1,2,3,4,5) : '))\n",
    "\n",
    "if speed == 1:\n",
    "    print('Extremely Slow : 50 rpm')\n",
    "elif speed == 2:\n",
    "    print('Slow : 100 rpm')\n",
    "elif speed == 3:\n",
    "    print('Medium : 150 rpm')\n",
    "elif speed == 4:\n",
    "    print('Fast : 200 rpm')\n",
    "else:\n",
    "    print('Extremely Fast : 250 rpm')"
   ]
  },
  {
   "cell_type": "code",
   "execution_count": 3,
   "metadata": {},
   "outputs": [
    {
     "name": "stdout",
     "output_type": "stream",
     "text": [
      "Enter Your Marks77\n",
      "Distinction\n"
     ]
    }
   ],
   "source": [
    "marks = int(input('Enter Your Marks'))\n",
    "\n",
    "if marks < 35:\n",
    "    print('Faild')\n",
    "elif marks >= 35 and marks <50:\n",
    "    print('Third class')\n",
    "elif marks >=50 and marks < 60:\n",
    "    print('Second class')\n",
    "elif marks >=60 and marks <70:\n",
    "    print('First Class')\n",
    "else: \n",
    "    print('Distinction')\n",
    "    "
   ]
  },
  {
   "cell_type": "code",
   "execution_count": 1,
   "metadata": {},
   "outputs": [
    {
     "name": "stdout",
     "output_type": "stream",
     "text": [
      "Day : 5\n",
      "Friday\n"
     ]
    }
   ],
   "source": [
    "day = int(input('Day : '))\n",
    "\n",
    "if day == 1:\n",
    "    print('Monday')\n",
    "elif day == 2:\n",
    "    print('Tuesday')\n",
    "elif day == 3:\n",
    "    print('Wednesday')\n",
    "elif day == 4:\n",
    "    print('Thusrday')\n",
    "elif day == 5:\n",
    "    print('Friday')\n",
    "elif day == 6:\n",
    "    print('Saturday')\n",
    "else:\n",
    "    print('Sunday')"
   ]
  },
  {
   "cell_type": "code",
   "execution_count": 2,
   "metadata": {},
   "outputs": [
    {
     "name": "stdout",
     "output_type": "stream",
     "text": [
      "How many cakes you want? 2\n",
      "You have to pay Rs 1700 for two Dark Chocolet Cakes with Rs 100 Discount\n"
     ]
    }
   ],
   "source": [
    "DarkChoCake = int(input('How many cakes you want? '))\n",
    "\n",
    "if DarkChoCake == 1:\n",
    "    print('You have to pay Rs 900 for one Dark Chocolet Cake')\n",
    "elif DarkChoCake == 2:\n",
    "    print('You have to pay Rs 1700 for two Dark Chocolet Cakes with Rs 100 Discount')\n",
    "elif DarkChoCake == 3:\n",
    "        print('You have to pay Rs 2500 for three Dark Chocolet Cakes with Rs 200 Discount')\n",
    "else:\n",
    "    print(\"Don't eat too much chocklet\")\n"
   ]
  },
  {
   "cell_type": "code",
   "execution_count": 3,
   "metadata": {},
   "outputs": [
    {
     "name": "stdout",
     "output_type": "stream",
     "text": [
      "Congratulation! you won Gold medal\n"
     ]
    }
   ],
   "source": [
    "rank = 1\n",
    "\n",
    "if rank == 1:\n",
    "    print(\"Congratulation! you won Gold medal\")\n",
    "elif rank == 2:\n",
    "    print('Congratulation! you won Silver medal')\n",
    "elif rank == 3:\n",
    "    print('Contratulation! you won Bronze medal')\n",
    "else:\n",
    "    print('No medal')"
   ]
  },
  {
   "cell_type": "code",
   "execution_count": 4,
   "metadata": {},
   "outputs": [
    {
     "name": "stdout",
     "output_type": "stream",
     "text": [
      "Since How many years you are using Social media : 4\n",
      "You have enough experiece to earn 1 lac per month using Instargam and Facebook\n"
     ]
    }
   ],
   "source": [
    "ageOfSM = int(input('Since How many years you are using Social media : '))\n",
    "\n",
    "if ageOfSM == 1:\n",
    "    print('You can Earn 15k to 20k per month using Instagram and Facebook')\n",
    "elif ageOfSM == 2:\n",
    "    print('You can Earn 30k to 40k per month using Instagram and Facebook')\n",
    "elif ageOfSM == 3:\n",
    "    print('You can Earn 50k to 60k per month using Instagram and Facebook')\n",
    "else:\n",
    "    print('You have enough experience to earn 1 lac per month using Instargam and Facebook')"
   ]
  },
  {
   "cell_type": "code",
   "execution_count": 5,
   "metadata": {},
   "outputs": [
    {
     "name": "stdout",
     "output_type": "stream",
     "text": [
      "How much water(lit) you drink daily :half\n",
      "You will be healthy for some time\n"
     ]
    }
   ],
   "source": [
    "waterIntake = input('How much water(lit) you drink daily :')\n",
    "\n",
    "if waterIntake == 1/4:\n",
    "    print(\"You won't be healthy in long term. You have to drink more\")\n",
    "elif waterIntake == 1/2 or waterIntake == 'half':\n",
    "    print('You will be healthy for some time')\n",
    "elif waterIntake > 1:\n",
    "    print('You will live a better life')\n",
    "else:\n",
    "    print('Start drinking as much as water daily')"
   ]
  },
  {
   "cell_type": "code",
   "execution_count": 6,
   "metadata": {},
   "outputs": [
    {
     "name": "stdout",
     "output_type": "stream",
     "text": [
      "How many years of job experience you have? 2\n",
      "you will get more than 50k salary\n"
     ]
    }
   ],
   "source": [
    "experience = input('How many years of job experience you have? ')\n",
    "\n",
    "if experience == 0:\n",
    "    print('You will get 30k per month salary')\n",
    "elif experience == 1:\n",
    "    print('you will get 40k per month salary')\n",
    "elif experience == 2:\n",
    "    print('You will get 50k per month salary')\n",
    "else:\n",
    "    print('you will get more than 50k salary')"
   ]
  },
  {
   "cell_type": "code",
   "execution_count": 7,
   "metadata": {},
   "outputs": [
    {
     "name": "stdout",
     "output_type": "stream",
     "text": [
      "I meditate for ONE hour\n"
     ]
    }
   ],
   "source": [
    "meditation = 1\n",
    "# meditation in hour\n",
    "if meditation == 1:\n",
    "    print('I meditate for ONE hour')\n",
    "elif meditation == 2:\n",
    "    print('I meditaate for Two hours')\n",
    "else:\n",
    "    print('I goes in flow state')"
   ]
  },
  {
   "cell_type": "code",
   "execution_count": 8,
   "metadata": {},
   "outputs": [
    {
     "name": "stdout",
     "output_type": "stream",
     "text": [
      "What's your age? 21\n",
      "You are an Adult\n"
     ]
    }
   ],
   "source": [
    "age = int(input(\"What's your age? \"))\n",
    "\n",
    "if age >=13 and age<21:\n",
    "    print('You are a Teenager')\n",
    "elif age >=21:\n",
    "    print('You are an Adult')\n",
    "else: \n",
    "    print('You are baby')"
   ]
  },
  {
   "cell_type": "code",
   "execution_count": null,
   "metadata": {},
   "outputs": [],
   "source": []
  }
 ],
 "metadata": {
  "kernelspec": {
   "display_name": "Python 3",
   "language": "python",
   "name": "python3"
  },
  "language_info": {
   "codemirror_mode": {
    "name": "ipython",
    "version": 3
   },
   "file_extension": ".py",
   "mimetype": "text/x-python",
   "name": "python",
   "nbconvert_exporter": "python",
   "pygments_lexer": "ipython3",
   "version": "3.7.4"
  }
 },
 "nbformat": 4,
 "nbformat_minor": 2
}
