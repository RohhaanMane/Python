{
 "cells": [
  {
   "cell_type": "code",
   "execution_count": 4,
   "metadata": {},
   "outputs": [
    {
     "name": "stdout",
     "output_type": "stream",
     "text": [
      "My day goes well\n"
     ]
    }
   ],
   "source": [
    "wakeUp = '4 am'\n",
    "if wakeUp == '4 am':\n",
    "    print('My day goes well')"
   ]
  },
  {
   "cell_type": "code",
   "execution_count": 7,
   "metadata": {},
   "outputs": [
    {
     "name": "stdout",
     "output_type": "stream",
     "text": [
      "Hey I am Rockey\n"
     ]
    }
   ],
   "source": [
    "Dog = 'Jerman Seaford'\n",
    "\n",
    "if Dog == 'Lab':\n",
    "    print('Hey I am Tommy')\n",
    "if Dog == 'Jerman Seaford':\n",
    "    print('Hey I am Rockey')"
   ]
  },
  {
   "cell_type": "code",
   "execution_count": 10,
   "metadata": {},
   "outputs": [
    {
     "name": "stdout",
     "output_type": "stream",
     "text": [
      "Wooops! I am Full\n"
     ]
    }
   ],
   "source": [
    "filledBott = 100\n",
    "\n",
    "if filledBott == 25:\n",
    "    print('Hey Rohan I have 25% water')\n",
    "if filledBott == 50:\n",
    "    print('Hey Rohan I have 50% water')\n",
    "if filledBott == 75:\n",
    "    print('Hey Rohan I have 75% water')\n",
    "if filledBott == 100:\n",
    "    print('Wooops! I am Full')"
   ]
  },
  {
   "cell_type": "code",
   "execution_count": 12,
   "metadata": {},
   "outputs": [
    {
     "name": "stdout",
     "output_type": "stream",
     "text": [
      "Great! You can have Tea and Coffee\n"
     ]
    }
   ],
   "source": [
    "hadTea = False\n",
    "\n",
    "if hadTea == True:\n",
    "    print('You will not get tea but you can have Coffee')\n",
    "if hadTea  == False:\n",
    "    print('Great! You can have Tea and Coffee')"
   ]
  },
  {
   "cell_type": "code",
   "execution_count": 3,
   "metadata": {},
   "outputs": [
    {
     "name": "stdout",
     "output_type": "stream",
     "text": [
      "Enter user Name: Rohan123\n",
      "Welcom...\n"
     ]
    }
   ],
   "source": [
    "n = input('Enter user Name: ')\n",
    "\n",
    "if n=='Rohan123':\n",
    "    print('Welcome...')"
   ]
  },
  {
   "cell_type": "code",
   "execution_count": 4,
   "metadata": {},
   "outputs": [
    {
     "name": "stdout",
     "output_type": "stream",
     "text": [
      "Light is on\n"
     ]
    }
   ],
   "source": [
    "switch =True\n",
    "\n",
    "if switch == True:\n",
    "    print('Light is on')\n",
    "if switch == False:\n",
    "    print('Light is off')"
   ]
  },
  {
   "cell_type": "code",
   "execution_count": 6,
   "metadata": {},
   "outputs": [
    {
     "name": "stdout",
     "output_type": "stream",
     "text": [
      "You can Dance\n"
     ]
    }
   ],
   "source": [
    "music = 'On'\n",
    "\n",
    "if music =='On':\n",
    "    print('You can Dance')"
   ]
  },
  {
   "cell_type": "code",
   "execution_count": 7,
   "metadata": {},
   "outputs": [
    {
     "name": "stdout",
     "output_type": "stream",
     "text": [
      "You can come in\n"
     ]
    }
   ],
   "source": [
    "gate = 'open'\n",
    "\n",
    "if gate == 'open':\n",
    "    print('You can come in')\n",
    "if gate =='close':\n",
    "    print('You can not come in')"
   ]
  },
  {
   "cell_type": "code",
   "execution_count": 8,
   "metadata": {},
   "outputs": [
    {
     "name": "stdout",
     "output_type": "stream",
     "text": [
      "Mask is clean. don't need to wash\n"
     ]
    }
   ],
   "source": [
    "mask = 'washed'\n",
    "\n",
    "if mask=='washed':\n",
    "    print(\"Mask is clean. don't need to wash\")\n"
   ]
  },
  {
   "cell_type": "code",
   "execution_count": 9,
   "metadata": {},
   "outputs": [
    {
     "name": "stdout",
     "output_type": "stream",
     "text": [
      "You can attend the class\n"
     ]
    }
   ],
   "source": [
    "ids = True\n",
    "\n",
    "if ids==True:\n",
    "    print('You can attend the class')"
   ]
  },
  {
   "cell_type": "code",
   "execution_count": null,
   "metadata": {},
   "outputs": [],
   "source": []
  }
 ],
 "metadata": {
  "kernelspec": {
   "display_name": "Python 3",
   "language": "python",
   "name": "python3"
  },
  "language_info": {
   "codemirror_mode": {
    "name": "ipython",
    "version": 3
   },
   "file_extension": ".py",
   "mimetype": "text/x-python",
   "name": "python",
   "nbconvert_exporter": "python",
   "pygments_lexer": "ipython3",
   "version": "3.7.4"
  }
 },
 "nbformat": 4,
 "nbformat_minor": 2
}
