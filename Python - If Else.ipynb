{
 "cells": [
  {
   "cell_type": "code",
   "execution_count": 2,
   "metadata": {},
   "outputs": [
    {
     "name": "stdout",
     "output_type": "stream",
     "text": [
      "You will be late\n"
     ]
    }
   ],
   "source": [
    "gotBus = False\n",
    "\n",
    "if gotBus == True:\n",
    "    print('You will reach the college on time')\n",
    "else:\n",
    "    print('You will be late')"
   ]
  },
  {
   "cell_type": "code",
   "execution_count": 4,
   "metadata": {},
   "outputs": [
    {
     "name": "stdout",
     "output_type": "stream",
     "text": [
      "You will pass with good marks\n"
     ]
    }
   ],
   "source": [
    "study ='good'\n",
    "\n",
    "if study == 'good':\n",
    "    print('You will pass with good marks')\n",
    "else:\n",
    "    print('You will get bad marks')"
   ]
  },
  {
   "cell_type": "code",
   "execution_count": 2,
   "metadata": {},
   "outputs": [
    {
     "name": "stdout",
     "output_type": "stream",
     "text": [
      "You will gain weight\n"
     ]
    }
   ],
   "source": [
    "ateSugar = True\n",
    "\n",
    "if ateSugar ==True:\n",
    "    print('You will gain weight')\n",
    "else:\n",
    "    print('Your health will be maintained well')"
   ]
  },
  {
   "cell_type": "code",
   "execution_count": 3,
   "metadata": {},
   "outputs": [
    {
     "name": "stdout",
     "output_type": "stream",
     "text": [
      "Your heart rate will increase\n"
     ]
    }
   ],
   "source": [
    "run = 'Faster'\n",
    "if run == 'Faster':\n",
    "    print('Your heart rate will increase')\n",
    "else:\n",
    "    print('your heart rate will be normal')"
   ]
  },
  {
   "cell_type": "code",
   "execution_count": 4,
   "metadata": {},
   "outputs": [
    {
     "name": "stdout",
     "output_type": "stream",
     "text": [
      "You will survive today\n"
     ]
    }
   ],
   "source": [
    "todos = True\n",
    "\n",
    "if todos == True:\n",
    "    print('You will survive today')\n",
    "else:\n",
    "    print('You will die today. because you did not keep your promise')"
   ]
  },
  {
   "cell_type": "code",
   "execution_count": 2,
   "metadata": {},
   "outputs": [
    {
     "name": "stdout",
     "output_type": "stream",
     "text": [
      "Enter battery percentage : 14\n",
      "You have 14% battery \n"
     ]
    }
   ],
   "source": [
    "battery = int(input('Enter battery percentage : '))\n",
    "\n",
    "if battery < 10:\n",
    "    print('Hey buddy! please charge me up.I have only {}% Battery life '.format(battery))\n",
    "else:\n",
    "    print('I have {}% battery '.format(battery))"
   ]
  },
  {
   "cell_type": "code",
   "execution_count": 3,
   "metadata": {},
   "outputs": [
    {
     "name": "stdout",
     "output_type": "stream",
     "text": [
      "Yes\n"
     ]
    }
   ],
   "source": [
    "string='abcdefgh'\n",
    "\n",
    "if string == 'abcdefgh':\n",
    "    print('Yes')\n",
    "else:\n",
    "    print('no')"
   ]
  },
  {
   "cell_type": "code",
   "execution_count": 5,
   "metadata": {},
   "outputs": [
    {
     "name": "stdout",
     "output_type": "stream",
     "text": [
      "You can not start the car\n"
     ]
    }
   ],
   "source": [
    "Key = 'No'\n",
    "\n",
    "if Key =='Yes':\n",
    "    print('You can start the car')\n",
    "else:\n",
    "    print('You can not start the car')"
   ]
  },
  {
   "cell_type": "code",
   "execution_count": 7,
   "metadata": {},
   "outputs": [
    {
     "name": "stdout",
     "output_type": "stream",
     "text": [
      "Is there traffic ? no\n",
      "You can go that way\n"
     ]
    }
   ],
   "source": [
    "traffic = input('Is there traffic ? ')\n",
    "\n",
    "if traffic == 'yes':\n",
    "    print('Do not go that way')\n",
    "else:\n",
    "    print('You can go that way')"
   ]
  },
  {
   "cell_type": "code",
   "execution_count": 10,
   "metadata": {},
   "outputs": [
    {
     "name": "stdout",
     "output_type": "stream",
     "text": [
      "Can you maintain yuor balance on cycle? yes\n",
      "You can become expert Cyclist\n"
     ]
    }
   ],
   "source": [
    "cycle = input('Can you maintain yuor balance on cycle? ')\n",
    "\n",
    "if cycle == 'yes' or cycle == 'Yes':\n",
    "    print('You can become expert Cyclist')\n",
    "else:\n",
    "    print('You have to learn how to maintain balance')"
   ]
  },
  {
   "cell_type": "code",
   "execution_count": null,
   "metadata": {},
   "outputs": [],
   "source": []
  }
 ],
 "metadata": {
  "kernelspec": {
   "display_name": "Python 3",
   "language": "python",
   "name": "python3"
  },
  "language_info": {
   "codemirror_mode": {
    "name": "ipython",
    "version": 3
   },
   "file_extension": ".py",
   "mimetype": "text/x-python",
   "name": "python",
   "nbconvert_exporter": "python",
   "pygments_lexer": "ipython3",
   "version": "3.7.4"
  }
 },
 "nbformat": 4,
 "nbformat_minor": 2
}
